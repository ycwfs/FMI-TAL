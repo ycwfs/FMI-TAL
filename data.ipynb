{
 "cells": [
  {
   "cell_type": "code",
   "execution_count": 1,
   "metadata": {},
   "outputs": [
    {
     "name": "stderr",
     "output_type": "stream",
     "text": [
      "/home/wangqiurui/anaconda3/envs/strm/lib/python3.9/site-packages/tqdm/auto.py:21: TqdmWarning: IProgress not found. Please update jupyter and ipywidgets. See https://ipywidgets.readthedocs.io/en/stable/user_install.html\n",
      "  from .autonotebook import tqdm as notebook_tqdm\n"
     ]
    }
   ],
   "source": [
    "from cProfile import label\n",
    "import re\n",
    "import hydra\n",
    "from scipy import rand\n",
    "import torch.utils.data as data\n",
    "import torch\n",
    "from torchvision import datasets, transforms\n",
    "from PIL import Image\n",
    "import json\n",
    "import os\n",
    "import zipfile\n",
    "import numpy as np\n",
    "import random\n",
    "\n",
    "### todo file the config, complete\n",
    "class VideoDataset(data.Dataset):\n",
    "    def __init__(self,args):\n",
    "        super(VideoDataset,self).__init__()\n",
    "        self.args = args\n",
    "        self.params = self.args[self.args.task]\n",
    "        self.an_classes = self.params.an_classes\n",
    "        if self.args.dataset == 'ActivityNet':\n",
    "            self.extract_path = self.args.data_paths.ActivityNet.extracted\n",
    "            self.annotation = self.args.data_paths.ActivityNet.annotation\n",
    "\n",
    "        self.annot = json.load(open(self.annotation,'r'))\n",
    "        self.video_dict = {}\n",
    "        # get task specific data dict, for each class choose one query and 1 or 5 support videos\n",
    "        self.get_fs_data(self.args.task,self.video_dict)\n",
    "\n",
    "    def get_fs_data(self,task,video_dict):\n",
    "        for video_class in self.an_classes:\n",
    "            video_dict[video_class] = {}\n",
    "            for video_name in os.listdir(os.path.join(self.extract_path,video_class)):\n",
    "                if self.annot['database'][video_name]['subset'] == task:\n",
    "                    video_dict[video_class][video_name] = self.annot['database'][video_name]\n",
    "\n",
    "    def get_video(self,video_list,video_class):\n",
    "        videos = []\n",
    "        for video_name in video_list:\n",
    "            video_path = os.path.join(self.extract_path,video_class,video_name)\n",
    "            frames = []\n",
    "            for frame in sorted(os.listdir(video_path)):\n",
    "                with Image.open(os.path.join(video_path,frame)) as i:\n",
    "                    i.load()\n",
    "                    frames.append(np.asarray(i))\n",
    "            frames = np.stack(frames,axis=0)\n",
    "            videos.append(frames)\n",
    "        return videos\n",
    "    \n",
    "    def get_labels(self,video_list,video_class):\n",
    "        labels = []\n",
    "        for video_name in video_list:\n",
    "            labels.append(self.video_dict[video_class][video_name]['annotations'][0]['segment'])\n",
    "        return labels\n",
    "\n",
    "    #todo: may be have repeat class,seed infect the random?\n",
    "    def __getitem__(self, index):\n",
    "        # get class name\n",
    "        videos = []\n",
    "        labels = []\n",
    "        video_classes = random.sample(self.an_classes, self.args.way)\n",
    "        for video_class in video_classes:\n",
    "            video_list = random.sample(self.video_dict[video_class].keys(), self.args.shot + self.args.query_per_class)\n",
    "            # get query and support video,only one way\n",
    "            videos = self.get_video(video_list,video_class)\n",
    "            labels = self.get_labels(video_list,video_class)\n",
    "        query_video = videos[:self.args.query_per_class]\n",
    "        support_video = videos[self.args.query_per_class:]\n",
    "        query_label = labels[:self.args.query_per_class]\n",
    "        support_label = labels[self.args.query_per_class:]\n",
    "\n",
    "        return {'qv':query_video,'sv':support_video,'ql':query_label,'sl':support_label}\n",
    "\n",
    "    def __len__(self):\n",
    "        return 9999999\n"
   ]
  },
  {
   "cell_type": "code",
   "execution_count": 2,
   "metadata": {},
   "outputs": [],
   "source": [
    "p = '/data1/wangqiurui/code/datasets/ActivityNet/anet1.3_tsp_filtered.json'"
   ]
  },
  {
   "cell_type": "code",
   "execution_count": 3,
   "metadata": {},
   "outputs": [],
   "source": [
    "an = json.load(open(p,'r'))"
   ]
  },
  {
   "cell_type": "code",
   "execution_count": 2,
   "metadata": {},
   "outputs": [],
   "source": [
    "@hydra.main(config_path=\"config\", config_name=\"config\",version_base=None)\n",
    "def main(cfg):\n",
    "    a = VideoDataset(cfg)\n",
    "    d = a.__getitem__(1)\n",
    "    qv = d['qv']\n"
   ]
  },
  {
   "cell_type": "code",
   "execution_count": 3,
   "metadata": {},
   "outputs": [
    {
     "name": "stderr",
     "output_type": "stream",
     "text": [
      "usage: ipykernel_launcher.py [--help] [--hydra-help] [--version]\n",
      "                             [--cfg {job,hydra,all}] [--resolve]\n",
      "                             [--package PACKAGE] [--run] [--multirun]\n",
      "                             [--shell-completion] [--config-path CONFIG_PATH]\n",
      "                             [--config-name CONFIG_NAME]\n",
      "                             [--config-dir CONFIG_DIR]\n",
      "                             [--experimental-rerun EXPERIMENTAL_RERUN]\n",
      "                             [--info [{all,config,defaults,defaults-tree,plugins,searchpath}]]\n",
      "                             [overrides ...]\n",
      "ipykernel_launcher.py: error: unrecognized arguments: --f=/home/wangqiurui/.local/share/jupyter/runtime/kernel-v2-50898AU2Crr0mRlo1.json\n"
     ]
    },
    {
     "ename": "SystemExit",
     "evalue": "2",
     "output_type": "error",
     "traceback": [
      "An exception has occurred, use %tb to see the full traceback.\n",
      "\u001b[0;31mSystemExit\u001b[0m\u001b[0;31m:\u001b[0m 2\n"
     ]
    },
    {
     "name": "stderr",
     "output_type": "stream",
     "text": [
      "/home/wangqiurui/anaconda3/envs/strm/lib/python3.9/site-packages/IPython/core/interactiveshell.py:3556: UserWarning: To exit: use 'exit', 'quit', or Ctrl-D.\n",
      "  warn(\"To exit: use 'exit', 'quit', or Ctrl-D.\", stacklevel=1)\n"
     ]
    }
   ],
   "source": [
    "\n",
    "main()"
   ]
  },
  {
   "cell_type": "code",
   "execution_count": null,
   "metadata": {},
   "outputs": [],
   "source": []
  }
 ],
 "metadata": {
  "kernelspec": {
   "display_name": "strm",
   "language": "python",
   "name": "python3"
  },
  "language_info": {
   "codemirror_mode": {
    "name": "ipython",
    "version": 3
   },
   "file_extension": ".py",
   "mimetype": "text/x-python",
   "name": "python",
   "nbconvert_exporter": "python",
   "pygments_lexer": "ipython3",
   "version": "3.9.6"
  }
 },
 "nbformat": 4,
 "nbformat_minor": 2
}
